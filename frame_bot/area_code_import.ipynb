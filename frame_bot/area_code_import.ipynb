{
 "cells": [
  {
   "cell_type": "code",
   "execution_count": 1,
   "metadata": {
    "collapsed": true
   },
   "outputs": [],
   "source": [
    "import os\n",
    "import pandas as pd\n",
    "import json\n",
    "import requests\n",
    "import elasticsearch\n",
    "from elasticsearch import helpers"
   ]
  },
  {
   "cell_type": "code",
   "execution_count": 2,
   "metadata": {},
   "outputs": [
    {
     "data": {
      "text/html": [
       "<div>\n",
       "<style scoped>\n",
       "    .dataframe tbody tr th:only-of-type {\n",
       "        vertical-align: middle;\n",
       "    }\n",
       "\n",
       "    .dataframe tbody tr th {\n",
       "        vertical-align: top;\n",
       "    }\n",
       "\n",
       "    .dataframe thead th {\n",
       "        text-align: right;\n",
       "    }\n",
       "</style>\n",
       "<table border=\"1\" class=\"dataframe\">\n",
       "  <thead>\n",
       "    <tr style=\"text-align: right;\">\n",
       "      <th></th>\n",
       "      <th>ID</th>\n",
       "      <th>省、直辖市名称</th>\n",
       "      <th>城市名称</th>\n",
       "      <th>区域名称</th>\n",
       "      <th>省GB码</th>\n",
       "      <th>市GB码</th>\n",
       "      <th>参考GB码</th>\n",
       "      <th>别名</th>\n",
       "    </tr>\n",
       "  </thead>\n",
       "  <tbody>\n",
       "    <tr>\n",
       "      <th>0</th>\n",
       "      <td>1</td>\n",
       "      <td>北京市</td>\n",
       "      <td>北京市</td>\n",
       "      <td>北京市</td>\n",
       "      <td>NaN</td>\n",
       "      <td>NaN</td>\n",
       "      <td>110000</td>\n",
       "      <td>NaN</td>\n",
       "    </tr>\n",
       "    <tr>\n",
       "      <th>1</th>\n",
       "      <td>2</td>\n",
       "      <td>北京市</td>\n",
       "      <td>北京市</td>\n",
       "      <td>朝阳区</td>\n",
       "      <td>110000.0</td>\n",
       "      <td>110100.0</td>\n",
       "      <td>110105</td>\n",
       "      <td>NaN</td>\n",
       "    </tr>\n",
       "    <tr>\n",
       "      <th>2</th>\n",
       "      <td>3</td>\n",
       "      <td>北京市</td>\n",
       "      <td>北京市</td>\n",
       "      <td>海淀区</td>\n",
       "      <td>110000.0</td>\n",
       "      <td>110100.0</td>\n",
       "      <td>110108</td>\n",
       "      <td>NaN</td>\n",
       "    </tr>\n",
       "    <tr>\n",
       "      <th>3</th>\n",
       "      <td>4</td>\n",
       "      <td>北京市</td>\n",
       "      <td>北京市</td>\n",
       "      <td>房山区</td>\n",
       "      <td>110000.0</td>\n",
       "      <td>110100.0</td>\n",
       "      <td>110111</td>\n",
       "      <td>NaN</td>\n",
       "    </tr>\n",
       "    <tr>\n",
       "      <th>4</th>\n",
       "      <td>5</td>\n",
       "      <td>北京市</td>\n",
       "      <td>北京市</td>\n",
       "      <td>顺义区</td>\n",
       "      <td>110000.0</td>\n",
       "      <td>110100.0</td>\n",
       "      <td>110113</td>\n",
       "      <td>NaN</td>\n",
       "    </tr>\n",
       "  </tbody>\n",
       "</table>\n",
       "</div>"
      ],
      "text/plain": [
       "<div>\n",
       "<style scoped>\n",
       "    .dataframe tbody tr th:only-of-type {\n",
       "        vertical-align: middle;\n",
       "    }\n",
       "\n",
       "    .dataframe tbody tr th {\n",
       "        vertical-align: top;\n",
       "    }\n",
       "\n",
       "    .dataframe thead th {\n",
       "        text-align: right;\n",
       "    }\n",
       "</style>\n",
       "<table border=\"1\" class=\"dataframe\">\n",
       "  <thead>\n",
       "    <tr style=\"text-align: right;\">\n",
       "      <th></th>\n",
       "      <th>ID</th>\n",
       "      <th>省、直辖市名称</th>\n",
       "      <th>城市名称</th>\n",
       "      <th>区域名称</th>\n",
       "      <th>省GB码</th>\n",
       "      <th>市GB码</th>\n",
       "      <th>参考GB码</th>\n",
       "      <th>别名</th>\n",
       "    </tr>\n",
       "  </thead>\n",
       "  <tbody>\n",
       "    <tr>\n",
       "      <th>0</th>\n",
       "      <td>1</td>\n",
       "      <td>北京市</td>\n",
       "      <td>北京市</td>\n",
       "      <td>北京市</td>\n",
       "      <td>NaN</td>\n",
       "      <td>NaN</td>\n",
       "      <td>110000</td>\n",
       "      <td>NaN</td>\n",
       "    </tr>\n",
       "    <tr>\n",
       "      <th>1</th>\n",
       "      <td>2</td>\n",
       "      <td>北京市</td>\n",
       "      <td>北京市</td>\n",
       "      <td>朝阳区</td>\n",
       "      <td>110000.0</td>\n",
       "      <td>110100.0</td>\n",
       "      <td>110105</td>\n",
       "      <td>NaN</td>\n",
       "    </tr>\n",
       "    <tr>\n",
       "      <th>2</th>\n",
       "      <td>3</td>\n",
       "      <td>北京市</td>\n",
       "      <td>北京市</td>\n",
       "      <td>海淀区</td>\n",
       "      <td>110000.0</td>\n",
       "      <td>110100.0</td>\n",
       "      <td>110108</td>\n",
       "      <td>NaN</td>\n",
       "    </tr>\n",
       "    <tr>\n",
       "      <th>3</th>\n",
       "      <td>4</td>\n",
       "      <td>北京市</td>\n",
       "      <td>北京市</td>\n",
       "      <td>房山区</td>\n",
       "      <td>110000.0</td>\n",
       "      <td>110100.0</td>\n",
       "      <td>110111</td>\n",
       "      <td>NaN</td>\n",
       "    </tr>\n",
       "    <tr>\n",
       "      <th>4</th>\n",
       "      <td>5</td>\n",
       "      <td>北京市</td>\n",
       "      <td>北京市</td>\n",
       "      <td>顺义区</td>\n",
       "      <td>110000.0</td>\n",
       "      <td>110100.0</td>\n",
       "      <td>110113</td>\n",
       "      <td>NaN</td>\n",
       "    </tr>\n",
       "  </tbody>\n",
       "</table>\n",
       "</div>"
      ]
     },
     "execution_count": 2,
     "metadata": {},
     "output_type": "execute_result"
    }
   ],
   "source": [
    "base_path = os.getcwd() + \"/aiml_fanzfeng/data/\"\n",
    "data = pd.read_excel(base_path+\"行政区划清单 V3.0 9.03.xlsx\")\n",
    "data.head()"
   ]
  },
  {
   "cell_type": "code",
   "execution_count": 10,
   "metadata": {},
   "outputs": [
    {
     "data": {
      "text/plain": [
       "(3222, 392, (3175,))"
      ]
     },
     "execution_count": 10,
     "metadata": {},
     "output_type": "execute_result"
    }
   ],
   "source": [
    "len(data), sum(data[u\"城市名称\"] == data[u\"区域名称\"])"
   ]
  },
  {
   "cell_type": "code",
   "execution_count": 31,
   "metadata": {},
   "outputs": [],
   "source": [
    "data[\"isna\"] = pd.isnull(data[u\"省GB码\"])\n",
    "data[data[u\"城市名称\"] == u\"上海市\"]\n",
    "# pd.isnull(data.loc[789, u\"省GB码\"])\n",
    "df = data[~data[\"isna\"]]"
   ]
  },
  {
   "cell_type": "code",
   "execution_count": 34,
   "metadata": {},
   "outputs": [
    {
     "data": {
      "text/html": [
       "<div>\n",
       "<style scoped>\n",
       "    .dataframe tbody tr th:only-of-type {\n",
       "        vertical-align: middle;\n",
       "    }\n",
       "\n",
       "    .dataframe tbody tr th {\n",
       "        vertical-align: top;\n",
       "    }\n",
       "\n",
       "    .dataframe thead th {\n",
       "        text-align: right;\n",
       "    }\n",
       "</style>\n",
       "<table border=\"1\" class=\"dataframe\">\n",
       "  <thead>\n",
       "    <tr style=\"text-align: right;\">\n",
       "      <th></th>\n",
       "      <th>ID</th>\n",
       "      <th>省、直辖市名称</th>\n",
       "      <th>城市名称</th>\n",
       "      <th>区域名称</th>\n",
       "      <th>省GB码</th>\n",
       "      <th>市GB码</th>\n",
       "      <th>参考GB码</th>\n",
       "      <th>别名</th>\n",
       "      <th>isna</th>\n",
       "    </tr>\n",
       "  </thead>\n",
       "  <tbody>\n",
       "    <tr>\n",
       "      <th>1790</th>\n",
       "      <td>1791</td>\n",
       "      <td>湖北省</td>\n",
       "      <td>潜江市</td>\n",
       "      <td>潜江市</td>\n",
       "      <td>420000.0</td>\n",
       "      <td>NaN</td>\n",
       "      <td>429005</td>\n",
       "      <td>NaN</td>\n",
       "      <td>False</td>\n",
       "    </tr>\n",
       "    <tr>\n",
       "      <th>1792</th>\n",
       "      <td>1793</td>\n",
       "      <td>湖北省</td>\n",
       "      <td>潜江市</td>\n",
       "      <td>潜江市</td>\n",
       "      <td>420000.0</td>\n",
       "      <td>429005.0</td>\n",
       "      <td>429005</td>\n",
       "      <td>NaN</td>\n",
       "      <td>False</td>\n",
       "    </tr>\n",
       "  </tbody>\n",
       "</table>\n",
       "</div>"
      ],
      "text/plain": [
       "<div>\n",
       "<style scoped>\n",
       "    .dataframe tbody tr th:only-of-type {\n",
       "        vertical-align: middle;\n",
       "    }\n",
       "\n",
       "    .dataframe tbody tr th {\n",
       "        vertical-align: top;\n",
       "    }\n",
       "\n",
       "    .dataframe thead th {\n",
       "        text-align: right;\n",
       "    }\n",
       "</style>\n",
       "<table border=\"1\" class=\"dataframe\">\n",
       "  <thead>\n",
       "    <tr style=\"text-align: right;\">\n",
       "      <th></th>\n",
       "      <th>ID</th>\n",
       "      <th>省、直辖市名称</th>\n",
       "      <th>城市名称</th>\n",
       "      <th>区域名称</th>\n",
       "      <th>省GB码</th>\n",
       "      <th>市GB码</th>\n",
       "      <th>参考GB码</th>\n",
       "      <th>别名</th>\n",
       "      <th>isna</th>\n",
       "    </tr>\n",
       "  </thead>\n",
       "  <tbody>\n",
       "    <tr>\n",
       "      <th>1790</th>\n",
       "      <td>1791</td>\n",
       "      <td>湖北省</td>\n",
       "      <td>潜江市</td>\n",
       "      <td>潜江市</td>\n",
       "      <td>420000.0</td>\n",
       "      <td>NaN</td>\n",
       "      <td>429005</td>\n",
       "      <td>NaN</td>\n",
       "      <td>False</td>\n",
       "    </tr>\n",
       "    <tr>\n",
       "      <th>1792</th>\n",
       "      <td>1793</td>\n",
       "      <td>湖北省</td>\n",
       "      <td>潜江市</td>\n",
       "      <td>潜江市</td>\n",
       "      <td>420000.0</td>\n",
       "      <td>429005.0</td>\n",
       "      <td>429005</td>\n",
       "      <td>NaN</td>\n",
       "      <td>False</td>\n",
       "    </tr>\n",
       "  </tbody>\n",
       "</table>\n",
       "</div>"
      ]
     },
     "execution_count": 34,
     "metadata": {},
     "output_type": "execute_result"
    }
   ],
   "source": [
    "df[df[u\"城市名称\"] == df[u\"区域名称\"]][u\"区域名称\"].value_counts()\n",
    "# data.head()\n",
    "df[df[u\"城市名称\"] == u\"潜江市\"]"
   ]
  },
  {
   "cell_type": "code",
   "execution_count": 35,
   "metadata": {},
   "outputs": [
    {
     "data": {
      "text/plain": [
       "((367,), (392,))"
      ]
     },
     "execution_count": 35,
     "metadata": {},
     "output_type": "execute_result"
    }
   ],
   "source": [
    "data[u\"市GB码\"].unique().shape, data[u\"城市名称\"].unique().shape"
   ]
  },
  {
   "cell_type": "code",
   "execution_count": 38,
   "metadata": {},
   "outputs": [
    {
     "data": {
      "text/html": [
       "<div>\n",
       "<style scoped>\n",
       "    .dataframe tbody tr th:only-of-type {\n",
       "        vertical-align: middle;\n",
       "    }\n",
       "\n",
       "    .dataframe tbody tr th {\n",
       "        vertical-align: top;\n",
       "    }\n",
       "\n",
       "    .dataframe thead th {\n",
       "        text-align: right;\n",
       "    }\n",
       "</style>\n",
       "<table border=\"1\" class=\"dataframe\">\n",
       "  <thead>\n",
       "    <tr style=\"text-align: right;\">\n",
       "      <th></th>\n",
       "      <th>省、直辖市名称</th>\n",
       "      <th>参考GB码</th>\n",
       "    </tr>\n",
       "  </thead>\n",
       "  <tbody>\n",
       "    <tr>\n",
       "      <th>0</th>\n",
       "      <td>北京市</td>\n",
       "      <td>110000</td>\n",
       "    </tr>\n",
       "    <tr>\n",
       "      <th>1</th>\n",
       "      <td>北京市</td>\n",
       "      <td>110105</td>\n",
       "    </tr>\n",
       "    <tr>\n",
       "      <th>2</th>\n",
       "      <td>北京市</td>\n",
       "      <td>110108</td>\n",
       "    </tr>\n",
       "    <tr>\n",
       "      <th>3</th>\n",
       "      <td>北京市</td>\n",
       "      <td>110111</td>\n",
       "    </tr>\n",
       "    <tr>\n",
       "      <th>4</th>\n",
       "      <td>北京市</td>\n",
       "      <td>110113</td>\n",
       "    </tr>\n",
       "  </tbody>\n",
       "</table>\n",
       "</div>"
      ],
      "text/plain": [
       "<div>\n",
       "<style scoped>\n",
       "    .dataframe tbody tr th:only-of-type {\n",
       "        vertical-align: middle;\n",
       "    }\n",
       "\n",
       "    .dataframe tbody tr th {\n",
       "        vertical-align: top;\n",
       "    }\n",
       "\n",
       "    .dataframe thead th {\n",
       "        text-align: right;\n",
       "    }\n",
       "</style>\n",
       "<table border=\"1\" class=\"dataframe\">\n",
       "  <thead>\n",
       "    <tr style=\"text-align: right;\">\n",
       "      <th></th>\n",
       "      <th>省、直辖市名称</th>\n",
       "      <th>参考GB码</th>\n",
       "    </tr>\n",
       "  </thead>\n",
       "  <tbody>\n",
       "    <tr>\n",
       "      <th>0</th>\n",
       "      <td>北京市</td>\n",
       "      <td>110000</td>\n",
       "    </tr>\n",
       "    <tr>\n",
       "      <th>1</th>\n",
       "      <td>北京市</td>\n",
       "      <td>110105</td>\n",
       "    </tr>\n",
       "    <tr>\n",
       "      <th>2</th>\n",
       "      <td>北京市</td>\n",
       "      <td>110108</td>\n",
       "    </tr>\n",
       "    <tr>\n",
       "      <th>3</th>\n",
       "      <td>北京市</td>\n",
       "      <td>110111</td>\n",
       "    </tr>\n",
       "    <tr>\n",
       "      <th>4</th>\n",
       "      <td>北京市</td>\n",
       "      <td>110113</td>\n",
       "    </tr>\n",
       "  </tbody>\n",
       "</table>\n",
       "</div>"
      ]
     },
     "execution_count": 38,
     "metadata": {},
     "output_type": "execute_result"
    }
   ],
   "source": [
    "sum(data[u\"省、直辖市名称\"] == data[u\"城市名称\"])\n",
    "dfg = data[[u\"省、直辖市名称\", u\"参考GB码\"]]\n",
    "dfg.drop_duplicates().shape, dfg[u\"参考GB码\"].unique().shape\n",
    "dfg.head()"
   ]
  },
  {
   "cell_type": "code",
   "execution_count": 8,
   "metadata": {},
   "outputs": [
    {
     "data": {
      "text/plain": [
       "Index([u'ID', u'省、直辖市名称', u'城市名称', u'区域名称', u'省GB码', u'市GB码', u'参考GB码', u'别名'], dtype='object')"
      ]
     },
     "execution_count": 8,
     "metadata": {},
     "output_type": "execute_result"
    }
   ],
   "source": [
    "data.columns"
   ]
  },
  {
   "cell_type": "code",
   "execution_count": 3,
   "metadata": {},
   "outputs": [],
   "source": [
    "dd = data[data[u\"省GB码\"].apply(lambda x: pd.isnull(x))][[u'省、直辖市名称', u'参考GB码']]\n",
    "dd.columns = [\"area\", \"code\"]\n",
    "dd_dict = dd.to_dict(\"record\")"
   ]
  },
  {
   "cell_type": "code",
   "execution_count": 4,
   "metadata": {},
   "outputs": [
    {
     "data": {
      "text/plain": [
       "[{'area': '北京市', 'code': 110000},\n {'area': '天津市', 'code': 120000},\n {'area': '河北省', 'code': 130000},\n {'area': '山西省', 'code': 140000},\n {'area': '内蒙古自治区', 'code': 150000},\n {'area': '辽宁省', 'code': 210000},\n {'area': '吉林省', 'code': 220000},\n {'area': '黑龙江省', 'code': 230000},\n {'area': '上海市', 'code': 310000},\n {'area': '江苏省', 'code': 320000},\n {'area': '浙江省', 'code': 330000},\n {'area': '安徽省', 'code': 340000},\n {'area': '福建省', 'code': 350000},\n {'area': '江西省', 'code': 360000},\n {'area': '山东省', 'code': 370000},\n {'area': '河南省', 'code': 410000},\n {'area': '湖北省', 'code': 420000},\n {'area': '湖南省', 'code': 430000},\n {'area': '广东省', 'code': 440000},\n {'area': '广西壮族自治区', 'code': 450000},\n {'area': '海南省', 'code': 460000},\n {'area': '重庆市', 'code': 500000},\n {'area': '四川省', 'code': 510000},\n {'area': '贵州省', 'code': 520000},\n {'area': '云南省', 'code': 530000},\n {'area': '西藏自治区', 'code': 540000},\n {'area': '陕西省', 'code': 610000},\n {'area': '甘肃省', 'code': 620000},\n {'area': '青海省', 'code': 630000},\n {'area': '宁夏回族自治区', 'code': 640000},\n {'area': '新疆维吾尔自治区', 'code': 650000}]"
      ]
     },
     "execution_count": 4,
     "metadata": {},
     "output_type": "execute_result"
    }
   ],
   "source": [
    "dd_dict"
   ]
  },
  {
   "cell_type": "markdown",
   "metadata": {},
   "source": [
    "## 高德地域数据导入es"
   ]
  },
  {
   "cell_type": "code",
   "execution_count": 5,
   "metadata": {},
   "outputs": [
    {
     "data": {
      "text/plain": [
       "<bound method Elasticsearch.info of <Elasticsearch([{'host': '101.200.61.56'}])>>"
      ]
     },
     "execution_count": 5,
     "metadata": {},
     "output_type": "execute_result"
    }
   ],
   "source": [
    "ip = \"101.200.61.56\"\n",
    "es = elasticsearch.Elasticsearch([ip], http_auth=('elastic', 'changeme'))\n",
    "es.info"
   ]
  },
  {
   "cell_type": "code",
   "execution_count": 6,
   "metadata": {},
   "outputs": [
    {
     "name": "stdout",
     "output_type": "stream",
     "text": [
      "ok\n"
     ]
    }
   ],
   "source": [
    "list_dicts = [{\"_index\": \"xiaopang7\", \"_type\": \"province\",\n",
    "               \"_source\": s} for s in dd_dict]\n",
    "helpers.bulk(es, list_dicts)\n",
    "print(\"ok\")"
   ]
  },
  {
   "cell_type": "code",
   "execution_count": 13,
   "metadata": {},
   "outputs": [
    {
     "data": {
      "text/plain": [
       "[{'_id': 'AWTmfQZIfiZKEn7D9sSj',\n  '_index': 'xiaopang7',\n  '_score': 3.2311888,\n  '_source': {'area': '天津市', 'code': 120000},\n  '_type': 'province'}]"
      ]
     },
     "execution_count": 13,
     "metadata": {},
     "output_type": "execute_result"
    }
   ],
   "source": [
    "es.search(index=\"xiaopang7\", doc_type=\"province\", \n",
    "          body={\"query\": {\"match\": {\"area\": \"天津天气\"}}})['hits']['hits']\n"
   ]
  },
  {
   "cell_type": "code",
   "execution_count": null,
   "metadata": {},
   "outputs": [
    {
     "data": {
      "text/plain": [
       "True"
      ]
     },
     "execution_count": 4,
     "metadata": {},
     "output_type": "execute_result"
    }
   ],
   "source": [
    "def isChinese(c):\n",
    "    r = [\n",
    "        # 标准CJK文字\n",
    "        (0x3400, 0x4DB5), (0x4E00, 0x9FA5), (0x9FA6, 0x9FBB), (0xF900, 0xFA2D),\n",
    "        (0xFA30, 0xFA6A), (0xFA70, 0xFAD9), (0x20000, 0x2A6D6), (0x2F800, 0x2FA1D),\n",
    "        # 全角ASCII、全角中英文标点、半宽片假名、半宽平假名、半宽韩文字母\n",
    "        # (0xFF00, 0xFFEF),\n",
    "        # # CJK部首补充\n",
    "        # (0x2E80, 0x2EFF),\n",
    "        # # CJK标点符号\n",
    "        # (0x3000, 0x303F),\n",
    "        # # CJK笔划\n",
    "        # (0x31C0, 0x31EF)\n",
    "    ]\n",
    "    return any(s <= ord(c) <= e for s, e in r)\n",
    "isChinese(\"我\")"
   ]
  },
  {
   "cell_type": "code",
   "execution_count": null,
   "metadata": {},
   "outputs": [],
   "source": [
    ""
   ]
  }
 ],
 "metadata": {
  "kernelspec": {
   "display_name": "Python 2",
   "language": "python",
   "name": "python2"
  },
  "language_info": {
   "codemirror_mode": {
    "name": "ipython",
    "version": 2
   },
   "file_extension": ".py",
   "mimetype": "text/x-python",
   "name": "python",
   "nbconvert_exporter": "python",
   "pygments_lexer": "ipython2",
   "version": "2.7.6"
  }
 },
 "nbformat": 4,
 "nbformat_minor": 0
}
