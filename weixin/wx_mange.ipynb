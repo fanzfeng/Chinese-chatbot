{
 "cells": [
  {
   "cell_type": "markdown",
   "metadata": {},
   "source": [
    "## 微信素材管理\n",
    "1. 临时素材\n",
    "2. 永久素材\n",
    "3. 以图片为例"
   ]
  },
  {
   "cell_type": "code",
   "execution_count": 3,
   "metadata": {},
   "outputs": [],
   "source": [
    "import time\n",
    "import requests, urllib2\n",
    "import poster.encode\n",
    "from poster.streaminghttp import register_openers"
   ]
  },
  {
   "cell_type": "code",
   "execution_count": 26,
   "metadata": {
    "collapsed": true
   },
   "outputs": [],
   "source": [
    "class Basic:\n",
    "    # 获取access_token\n",
    "    def __init__(self):        \n",
    "        self.__accessToken = ''        \n",
    "        self.__leftTime = 0\n",
    "        self.url = \"https://api.weixin.qq.com/cgi-bin/token?grant_type=\" \"client_credential&appid={aid}&secret={sid}\"\n",
    "        \n",
    "    def __real_get_access_token(self):\n",
    "        urlResp = requests.get(url=self.url.format(aid=\"wx5b9a64bcdb671577\", \n",
    "                                                   sid=\"cffd473cf2cc2219cca7fef0b5eb871a\")).json()\n",
    "        # app Secret id需要通过忘记重新获取，正常状态是隐藏的\n",
    "        print(urlResp)\n",
    "        self.__accessToken = urlResp['access_token']\n",
    "        self.__leftTime = urlResp['expires_in']\n",
    "        \n",
    "    def get_access_token(self): \n",
    "        if self.__leftTime < 10:\n",
    "            self.__real_get_access_token()\n",
    "            return self.__accessToken\n",
    "        \n",
    "    def run(self):\n",
    "        while(True):\n",
    "            if self.__leftTime > 10:\n",
    "                time.sleep(2)\n",
    "                self.__leftTime -= 2\n",
    "            else:\n",
    "                self.__real_get_access_token()"
   ]
  },
  {
   "cell_type": "code",
   "execution_count": 28,
   "metadata": {},
   "outputs": [
    {
     "name": "stdout",
     "output_type": "stream",
     "text": [
      "{u'access_token': u'17_7TnPlPOE1jE-5qmhCbQ4Vy5fp9YpCSl-YwNBgvKmaoRkkKFIRuPb-WAVmnwfvzLP2HPvVXB06vGjT8KVSutYNodHmpshwUWTFrfwNVO8fzgKZAxOGgxvdLQhxLyBKcaZrdHUXKAZUo-vWN7uWGNdAGAPZG', u'expires_in': 7200}\n"
     ]
    },
    {
     "name": "stdout",
     "output_type": "stream",
     "text": [
      "{\"errcode\":48001,\"errmsg\":\"api unauthorized hint: [tSC8LA04508055!]\"}\n"
     ]
    }
   ],
   "source": [
    "class Media(object):\n",
    "    def __init__(self):\n",
    "        register_openers()\n",
    "\n",
    "    def upload(self, accessToken, filePath, mediaType):\n",
    "        openFile = open(filePath, \"rb\")\n",
    "        media_name = \"dog and fish\"\n",
    "        param = {'media': openFile}\n",
    "        # param.update({\"articles\": [{\"title\": media_name,\n",
    "        #                             \"thumb_media_id\": abs(hash(media_name)),\n",
    "        #                             \"show_cover_pic\": 1,\n",
    "        #                             \"content\": \"rand\",\n",
    "        #                             \"content_source_url\": \"http://image.baidu.com\"}]})\n",
    "        postData, postHeaders = poster.encode.multipart_encode(param)\n",
    "        # postUrl = \"https://api.weixin.qq.com/cgi-bin/media/upload?access_token=%s&type=%s\" % (accessToken, mediaType)\n",
    "        postUrl = \"https://api.weixin.qq.com/cgi-bin/material/add_material?access_token=%s&type=%s\" \\\n",
    "                  % (accessToken, mediaType) # 永久素材获取url\n",
    "        request = urllib2.Request(postUrl, postData, postHeaders)\n",
    "        urlResp = urllib2.urlopen(request)\n",
    "        print urlResp.read()\n",
    "\n",
    "\n",
    "if __name__ == '__main__':\n",
    "    accessToken = Basic().get_access_token()\n",
    "    filePath = \"/Users/fanzfeng/Documents/picture/yu.jpg\"\n",
    "    mediaType = \"image\"\n",
    "    myMedia = Media()\n",
    "    myMedia.upload(accessToken, filePath, mediaType)"
   ]
  },
  {
   "cell_type": "markdown",
   "metadata": {},
   "source": [
    "`上传永久素材报错{\"errcode\":48001,\"errmsg\":\"api unauthorized hint: [tSC8LA04508055!]\"}，意思是微信上传永久素材需要是企业号，需要认证的`"
   ]
  }
 ],
 "metadata": {
  "kernelspec": {
   "display_name": "Python 2",
   "language": "python",
   "name": "python2"
  },
  "language_info": {
   "codemirror_mode": {
    "name": "ipython",
    "version": 2
   },
   "file_extension": ".py",
   "mimetype": "text/x-python",
   "name": "python",
   "nbconvert_exporter": "python",
   "pygments_lexer": "ipython2",
   "version": "2.7.6"
  }
 },
 "nbformat": 4,
 "nbformat_minor": 0
}
